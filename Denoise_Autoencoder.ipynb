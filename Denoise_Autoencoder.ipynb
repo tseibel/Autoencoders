{
 "cells": [
  {
   "cell_type": "code",
   "execution_count": 1,
   "metadata": {},
   "outputs": [],
   "source": [
    "from keras.layers import Input, Dense, Conv2D, MaxPooling2D, UpSampling2D\n",
    "from keras.models import Model\n",
    "from keras import backend as K\n",
    "from keras.datasets import mnist\n",
    "from keras.datasets import cifar10\n",
    "\n",
    "import numpy as np\n",
    "import tensorflow as tf"
   ]
  },
  {
   "cell_type": "code",
   "execution_count": 2,
   "metadata": {},
   "outputs": [],
   "source": [
    "config = tf.compat.v1.ConfigProto()\n",
    "config.gpu_options.allow_growth = True\n",
    "session = tf.compat.v1.Session(config=config)"
   ]
  },
  {
   "cell_type": "code",
   "execution_count": 3,
   "metadata": {},
   "outputs": [],
   "source": [
    "(x_train, _), (x_test, _) = mnist.load_data()\n"
   ]
  },
  {
   "cell_type": "code",
   "execution_count": 4,
   "metadata": {},
   "outputs": [],
   "source": [
    "x_train = x_train.astype('float32') / 255.\n",
    "x_test = x_test.astype('float32') / 255.\n",
    "x_train = np.reshape(x_train, (len(x_train), 28, 28, 1))\n",
    "x_test = np.reshape(x_test, (len(x_test), 28, 28, 1))"
   ]
  },
  {
   "cell_type": "code",
   "execution_count": 5,
   "metadata": {},
   "outputs": [],
   "source": [
    "noise_factor = 0.5\n",
    "x_train_noisy = x_train + noise_factor * np.random.normal(loc=0.0, scale=1.0, size=x_train.shape)\n",
    "x_test_noisy = x_test + noise_factor * np.random.normal(loc=0.0, scale=1.0, size=x_test.shape)"
   ]
  },
  {
   "cell_type": "code",
   "execution_count": 6,
   "metadata": {},
   "outputs": [],
   "source": [
    "x_train_noisy = np.clip(x_train_noisy, 0., 1.)\n",
    "x_test_noisy = np.clip(x_test_noisy, 0., 1.)"
   ]
  },
  {
   "cell_type": "code",
   "execution_count": 7,
   "metadata": {},
   "outputs": [],
   "source": [
    "input_img = Input(shape = (28, 28, 1))"
   ]
  },
  {
   "cell_type": "code",
   "execution_count": 8,
   "metadata": {},
   "outputs": [],
   "source": [
    "x = Conv2D(32, (3, 3), activation='relu', padding='same')(input_img)\n",
    "x = MaxPooling2D((2,2), padding='same')(x)\n",
    "x = Conv2D(32, (3,3), activation='relu', padding='same')(x)\n",
    "encoded = MaxPooling2D((2,2), padding='same')(x)"
   ]
  },
  {
   "cell_type": "code",
   "execution_count": 9,
   "metadata": {},
   "outputs": [],
   "source": [
    "x = Conv2D(32, (3, 3), activation='relu', padding='same')(encoded)\n",
    "x = UpSampling2D((2,2))(x)\n",
    "x = Conv2D(32, (3,3), activation='relu', padding='same')(x)\n",
    "x = UpSampling2D((2,2))(x)\n",
    "decoded = Conv2D(1,(3,3), activation='sigmoid', padding='same')(x)"
   ]
  },
  {
   "cell_type": "code",
   "execution_count": 10,
   "metadata": {},
   "outputs": [],
   "source": [
    "autoencoder = Model(input_img, decoded)\n",
    "autoencoder.compile(optimizer='adam', loss='binary_crossentropy')"
   ]
  },
  {
   "cell_type": "code",
   "execution_count": 11,
   "metadata": {},
   "outputs": [],
   "source": [
    "from keras.datasets import mnist\n",
    "import numpy as np\n",
    "(x_train, _), (x_test, _) = mnist.load_data()"
   ]
  },
  {
   "cell_type": "code",
   "execution_count": 12,
   "metadata": {},
   "outputs": [
    {
     "name": "stdout",
     "output_type": "stream",
     "text": [
      "(60000, 28, 28, 1)\n",
      "(10000, 28, 28, 1)\n"
     ]
    }
   ],
   "source": [
    "x_train = x_train.astype('float32') / 255.\n",
    "x_test = x_test.astype('float32') / 255.\n",
    "x_train = np.reshape(x_train, (len(x_train), 28, 28, 1))\n",
    "x_test = np.reshape(x_test, (len(x_test), 28, 28, 1))\n",
    "\n",
    "print(x_train.shape)\n",
    "print(x_test.shape)"
   ]
  },
  {
   "cell_type": "code",
   "execution_count": 13,
   "metadata": {},
   "outputs": [
    {
     "name": "stdout",
     "output_type": "stream",
     "text": [
      "Epoch 1/100\n",
      "1875/1875 [==============================] - 6s 3ms/step - loss: 0.1257 - val_loss: 0.1045\n",
      "Epoch 2/100\n",
      "1875/1875 [==============================] - 6s 3ms/step - loss: 0.1025 - val_loss: 0.0997\n",
      "Epoch 3/100\n",
      "1875/1875 [==============================] - 6s 3ms/step - loss: 0.0994 - val_loss: 0.0976\n",
      "Epoch 4/100\n",
      "1875/1875 [==============================] - 6s 3ms/step - loss: 0.0977 - val_loss: 0.0976\n",
      "Epoch 5/100\n",
      "1875/1875 [==============================] - 6s 3ms/step - loss: 0.0967 - val_loss: 0.0954\n",
      "Epoch 6/100\n",
      "1875/1875 [==============================] - 6s 3ms/step - loss: 0.0961 - val_loss: 0.0953\n",
      "Epoch 7/100\n",
      "1875/1875 [==============================] - 6s 3ms/step - loss: 0.0957 - val_loss: 0.0961\n",
      "Epoch 8/100\n",
      "1875/1875 [==============================] - 6s 3ms/step - loss: 0.0954 - val_loss: 0.0948\n",
      "Epoch 9/100\n",
      "1875/1875 [==============================] - 6s 3ms/step - loss: 0.0951 - val_loss: 0.0944\n",
      "Epoch 10/100\n",
      "1875/1875 [==============================] - 7s 3ms/step - loss: 0.0949 - val_loss: 0.0942\n",
      "Epoch 11/100\n",
      "1875/1875 [==============================] - 7s 3ms/step - loss: 0.0948 - val_loss: 0.0943\n",
      "Epoch 12/100\n",
      "1875/1875 [==============================] - 6s 3ms/step - loss: 0.0946 - val_loss: 0.0943\n",
      "Epoch 13/100\n",
      "1875/1875 [==============================] - 6s 3ms/step - loss: 0.0945 - val_loss: 0.0939\n",
      "Epoch 14/100\n",
      "1875/1875 [==============================] - 6s 3ms/step - loss: 0.0944 - val_loss: 0.0943\n",
      "Epoch 15/100\n",
      "1875/1875 [==============================] - 6s 3ms/step - loss: 0.0943 - val_loss: 0.0938\n",
      "Epoch 16/100\n",
      "1875/1875 [==============================] - 6s 3ms/step - loss: 0.0942 - val_loss: 0.0941\n",
      "Epoch 17/100\n",
      "1875/1875 [==============================] - 6s 3ms/step - loss: 0.0941 - val_loss: 0.0937\n",
      "Epoch 18/100\n",
      "1875/1875 [==============================] - 6s 3ms/step - loss: 0.0940 - val_loss: 0.0937\n",
      "Epoch 19/100\n",
      "1875/1875 [==============================] - 6s 3ms/step - loss: 0.0940 - val_loss: 0.0941\n",
      "Epoch 20/100\n",
      "1875/1875 [==============================] - 6s 3ms/step - loss: 0.0939 - val_loss: 0.0935\n",
      "Epoch 21/100\n",
      "1875/1875 [==============================] - 6s 3ms/step - loss: 0.0939 - val_loss: 0.0939\n",
      "Epoch 22/100\n",
      "1875/1875 [==============================] - 6s 3ms/step - loss: 0.0938 - val_loss: 0.0937\n",
      "Epoch 23/100\n",
      "1875/1875 [==============================] - 6s 3ms/step - loss: 0.0938 - val_loss: 0.0936\n",
      "Epoch 24/100\n",
      "1875/1875 [==============================] - 6s 3ms/step - loss: 0.0937 - val_loss: 0.0935\n",
      "Epoch 25/100\n",
      "1875/1875 [==============================] - 6s 3ms/step - loss: 0.0937 - val_loss: 0.0934\n",
      "Epoch 26/100\n",
      "1875/1875 [==============================] - 6s 3ms/step - loss: 0.0937 - val_loss: 0.0933\n",
      "Epoch 27/100\n",
      "1875/1875 [==============================] - 6s 3ms/step - loss: 0.0936 - val_loss: 0.0933\n",
      "Epoch 28/100\n",
      "1875/1875 [==============================] - 6s 3ms/step - loss: 0.0936 - val_loss: 0.0932\n",
      "Epoch 29/100\n",
      "1875/1875 [==============================] - 6s 3ms/step - loss: 0.0936 - val_loss: 0.0935\n",
      "Epoch 30/100\n",
      "1875/1875 [==============================] - 6s 3ms/step - loss: 0.0935 - val_loss: 0.0934\n",
      "Epoch 31/100\n",
      "1875/1875 [==============================] - 6s 3ms/step - loss: 0.0935 - val_loss: 0.0935\n",
      "Epoch 32/100\n",
      "1875/1875 [==============================] - 6s 3ms/step - loss: 0.0935 - val_loss: 0.0932\n",
      "Epoch 33/100\n",
      "1875/1875 [==============================] - 6s 3ms/step - loss: 0.0935 - val_loss: 0.0933\n",
      "Epoch 34/100\n",
      "1875/1875 [==============================] - 6s 3ms/step - loss: 0.0934 - val_loss: 0.0933\n",
      "Epoch 35/100\n",
      "1875/1875 [==============================] - 6s 3ms/step - loss: 0.0934 - val_loss: 0.0936\n",
      "Epoch 36/100\n",
      "1875/1875 [==============================] - 6s 3ms/step - loss: 0.0934 - val_loss: 0.0934\n",
      "Epoch 37/100\n",
      "1875/1875 [==============================] - 6s 3ms/step - loss: 0.0934 - val_loss: 0.0931\n",
      "Epoch 38/100\n",
      "1875/1875 [==============================] - 6s 3ms/step - loss: 0.0933 - val_loss: 0.0933\n",
      "Epoch 39/100\n",
      "1875/1875 [==============================] - 6s 3ms/step - loss: 0.0933 - val_loss: 0.0933\n",
      "Epoch 40/100\n",
      "1875/1875 [==============================] - 6s 3ms/step - loss: 0.0933 - val_loss: 0.0935\n",
      "Epoch 41/100\n",
      "1875/1875 [==============================] - 6s 3ms/step - loss: 0.0933 - val_loss: 0.0932\n",
      "Epoch 42/100\n",
      "1875/1875 [==============================] - 6s 3ms/step - loss: 0.0933 - val_loss: 0.0936\n",
      "Epoch 43/100\n",
      "1875/1875 [==============================] - 6s 3ms/step - loss: 0.0932 - val_loss: 0.0932\n",
      "Epoch 44/100\n",
      "1875/1875 [==============================] - 6s 3ms/step - loss: 0.0933 - val_loss: 0.0931\n",
      "Epoch 45/100\n",
      "1875/1875 [==============================] - 6s 3ms/step - loss: 0.0932 - val_loss: 0.0931\n",
      "Epoch 46/100\n",
      "1875/1875 [==============================] - 6s 3ms/step - loss: 0.0932 - val_loss: 0.0932\n",
      "Epoch 47/100\n",
      "1875/1875 [==============================] - 6s 3ms/step - loss: 0.0932 - val_loss: 0.0932\n",
      "Epoch 48/100\n",
      "1875/1875 [==============================] - 6s 3ms/step - loss: 0.0932 - val_loss: 0.0930\n",
      "Epoch 49/100\n",
      "1875/1875 [==============================] - 6s 3ms/step - loss: 0.0932 - val_loss: 0.0930\n",
      "Epoch 50/100\n",
      "1875/1875 [==============================] - 6s 3ms/step - loss: 0.0932 - val_loss: 0.0931\n",
      "Epoch 51/100\n",
      "1875/1875 [==============================] - 6s 3ms/step - loss: 0.0932 - val_loss: 0.0931\n",
      "Epoch 52/100\n",
      "1875/1875 [==============================] - 6s 3ms/step - loss: 0.0931 - val_loss: 0.0931\n",
      "Epoch 53/100\n",
      "1875/1875 [==============================] - 6s 3ms/step - loss: 0.0931 - val_loss: 0.0930\n",
      "Epoch 54/100\n",
      "1875/1875 [==============================] - 6s 3ms/step - loss: 0.0931 - val_loss: 0.0932\n",
      "Epoch 55/100\n",
      "1875/1875 [==============================] - 6s 3ms/step - loss: 0.0931 - val_loss: 0.0931\n",
      "Epoch 56/100\n",
      "1875/1875 [==============================] - 6s 3ms/step - loss: 0.0931 - val_loss: 0.0931\n",
      "Epoch 57/100\n",
      "1875/1875 [==============================] - 6s 3ms/step - loss: 0.0931 - val_loss: 0.0935\n",
      "Epoch 58/100\n",
      "1875/1875 [==============================] - 6s 3ms/step - loss: 0.0931 - val_loss: 0.0930\n",
      "Epoch 59/100\n",
      "1875/1875 [==============================] - 6s 3ms/step - loss: 0.0931 - val_loss: 0.0930\n",
      "Epoch 60/100\n",
      "1875/1875 [==============================] - 6s 3ms/step - loss: 0.0931 - val_loss: 0.0931\n",
      "Epoch 61/100\n",
      "1875/1875 [==============================] - 6s 3ms/step - loss: 0.0931 - val_loss: 0.0930\n",
      "Epoch 62/100\n",
      "1875/1875 [==============================] - 6s 3ms/step - loss: 0.0930 - val_loss: 0.0931\n",
      "Epoch 63/100\n",
      "1875/1875 [==============================] - 6s 3ms/step - loss: 0.0930 - val_loss: 0.0930\n",
      "Epoch 64/100\n",
      "1875/1875 [==============================] - 6s 3ms/step - loss: 0.0930 - val_loss: 0.0929\n",
      "Epoch 65/100\n",
      "1875/1875 [==============================] - 6s 3ms/step - loss: 0.0930 - val_loss: 0.0931\n",
      "Epoch 66/100\n",
      "1875/1875 [==============================] - 6s 3ms/step - loss: 0.0930 - val_loss: 0.0934\n",
      "Epoch 67/100\n",
      "1875/1875 [==============================] - 6s 3ms/step - loss: 0.0930 - val_loss: 0.0930\n",
      "Epoch 68/100\n",
      "1875/1875 [==============================] - 6s 3ms/step - loss: 0.0930 - val_loss: 0.0929\n",
      "Epoch 69/100\n",
      "1875/1875 [==============================] - 6s 3ms/step - loss: 0.0930 - val_loss: 0.0929\n",
      "Epoch 70/100\n",
      "1875/1875 [==============================] - 6s 3ms/step - loss: 0.0930 - val_loss: 0.0929\n",
      "Epoch 71/100\n",
      "1875/1875 [==============================] - 6s 3ms/step - loss: 0.0930 - val_loss: 0.0929\n",
      "Epoch 72/100\n",
      "1875/1875 [==============================] - 6s 3ms/step - loss: 0.0930 - val_loss: 0.0928\n",
      "Epoch 73/100\n",
      "1875/1875 [==============================] - 6s 3ms/step - loss: 0.0930 - val_loss: 0.0929\n",
      "Epoch 74/100\n",
      "1875/1875 [==============================] - 6s 3ms/step - loss: 0.0930 - val_loss: 0.0931\n",
      "Epoch 75/100\n",
      "1875/1875 [==============================] - 6s 3ms/step - loss: 0.0929 - val_loss: 0.0929\n",
      "Epoch 76/100\n",
      "1875/1875 [==============================] - 6s 3ms/step - loss: 0.0929 - val_loss: 0.0932\n",
      "Epoch 77/100\n",
      "1875/1875 [==============================] - 6s 3ms/step - loss: 0.0929 - val_loss: 0.0933\n",
      "Epoch 78/100\n",
      "1875/1875 [==============================] - 6s 3ms/step - loss: 0.0929 - val_loss: 0.0932\n",
      "Epoch 79/100\n",
      "1875/1875 [==============================] - 6s 3ms/step - loss: 0.0930 - val_loss: 0.0930\n"
     ]
    },
    {
     "name": "stdout",
     "output_type": "stream",
     "text": [
      "Epoch 80/100\n",
      "1875/1875 [==============================] - 6s 3ms/step - loss: 0.0929 - val_loss: 0.0931\n",
      "Epoch 81/100\n",
      "1875/1875 [==============================] - 6s 3ms/step - loss: 0.0929 - val_loss: 0.0929\n",
      "Epoch 82/100\n",
      "1875/1875 [==============================] - 6s 3ms/step - loss: 0.0929 - val_loss: 0.0933\n",
      "Epoch 83/100\n",
      "1875/1875 [==============================] - 6s 3ms/step - loss: 0.0929 - val_loss: 0.0930\n",
      "Epoch 84/100\n",
      "1875/1875 [==============================] - 6s 3ms/step - loss: 0.0929 - val_loss: 0.0932\n",
      "Epoch 85/100\n",
      "1875/1875 [==============================] - 6s 3ms/step - loss: 0.0929 - val_loss: 0.0936\n",
      "Epoch 86/100\n",
      "1875/1875 [==============================] - 6s 3ms/step - loss: 0.0929 - val_loss: 0.0928\n",
      "Epoch 87/100\n",
      "1875/1875 [==============================] - 6s 3ms/step - loss: 0.0929 - val_loss: 0.0929\n",
      "Epoch 88/100\n",
      "1875/1875 [==============================] - 6s 3ms/step - loss: 0.0929 - val_loss: 0.0929\n",
      "Epoch 89/100\n",
      "1875/1875 [==============================] - 6s 3ms/step - loss: 0.0929 - val_loss: 0.0929\n",
      "Epoch 90/100\n",
      "1875/1875 [==============================] - 6s 3ms/step - loss: 0.0928 - val_loss: 0.0928\n",
      "Epoch 91/100\n",
      "1875/1875 [==============================] - 6s 3ms/step - loss: 0.0929 - val_loss: 0.0929\n",
      "Epoch 92/100\n",
      "1875/1875 [==============================] - 6s 3ms/step - loss: 0.0929 - val_loss: 0.0930\n",
      "Epoch 93/100\n",
      "1875/1875 [==============================] - 6s 3ms/step - loss: 0.0929 - val_loss: 0.0930\n",
      "Epoch 94/100\n",
      "1875/1875 [==============================] - 6s 3ms/step - loss: 0.0929 - val_loss: 0.0935\n",
      "Epoch 95/100\n",
      "1875/1875 [==============================] - 6s 3ms/step - loss: 0.0929 - val_loss: 0.0931\n",
      "Epoch 96/100\n",
      "1875/1875 [==============================] - 6s 3ms/step - loss: 0.0929 - val_loss: 0.0928\n",
      "Epoch 97/100\n",
      "1875/1875 [==============================] - 6s 3ms/step - loss: 0.0929 - val_loss: 0.0930\n",
      "Epoch 98/100\n",
      "1875/1875 [==============================] - 6s 3ms/step - loss: 0.0929 - val_loss: 0.0929\n",
      "Epoch 99/100\n",
      "1875/1875 [==============================] - 6s 3ms/step - loss: 0.0929 - val_loss: 0.0929\n",
      "Epoch 100/100\n",
      "1875/1875 [==============================] - 6s 3ms/step - loss: 0.0928 - val_loss: 0.0929\n"
     ]
    },
    {
     "data": {
      "text/plain": [
       "<tensorflow.python.keras.callbacks.History at 0x7f2fc8227a00>"
      ]
     },
     "execution_count": 13,
     "metadata": {},
     "output_type": "execute_result"
    }
   ],
   "source": [
    "autoencoder.fit(x_train_noisy, x_train, \n",
    "                epochs=100, \n",
    "                batch_size=32, \n",
    "                shuffle=True, \n",
    "                validation_data=(x_test_noisy,x_test))"
   ]
  },
  {
   "cell_type": "code",
   "execution_count": 14,
   "metadata": {},
   "outputs": [],
   "source": [
    "decoded_imgs = autoencoder.predict(x_test_noisy)"
   ]
  },
  {
   "cell_type": "code",
   "execution_count": 15,
   "metadata": {},
   "outputs": [
    {
     "data": {
      "image/png": "[encoded data removed]",
      "text/plain": [
       "<Figure size 1440x288 with 20 Axes>"
      ]
     },
     "metadata": {
      "needs_background": "light"
     },
     "output_type": "display_data"
    }
   ],
   "source": [
    "import matplotlib.pyplot as plt\n",
    "\n",
    "n = 10\n",
    "plt.figure(figsize=(20, 4))\n",
    "for i in range(n):\n",
    "  #display original\n",
    "  ax = plt.subplot(2, n, i + 1)\n",
    "  plt.imshow(x_test_noisy[i].reshape(28,28))\n",
    "  plt.gray()\n",
    "  ax.get_xaxis().set_visible(False)\n",
    "  ax.get_yaxis().set_visible(False)\n",
    "\n",
    "  #display reconstruction\n",
    "  ax = plt.subplot(2, n, i + 1 + n)\n",
    "  plt.imshow(decoded_imgs[i].reshape(28,28))\n",
    "  plt.gray()\n",
    "  ax.get_xaxis().set_visible(False)\n",
    "  ax.get_yaxis().set_visible(False)"
   ]
  },
  {
   "cell_type": "code",
   "execution_count": null,
   "metadata": {},
   "outputs": [],
   "source": []
  },
  {
   "cell_type": "code",
   "execution_count": null,
   "metadata": {},
   "outputs": [],
   "source": []
  }
 ],
 "metadata": {
  "kernelspec": {
   "display_name": "Python 3",
   "language": "python",
   "name": "python3"
  },
  "language_info": {
   "codemirror_mode": {
    "name": "ipython",
    "version": 3
   },
   "file_extension": ".py",
   "mimetype": "text/x-python",
   "name": "python",
   "nbconvert_exporter": "python",
   "pygments_lexer": "ipython3",
   "version": "3.8.3"
  }
 },
 "nbformat": 4,
 "nbformat_minor": 4
}
