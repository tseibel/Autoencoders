{
 "cells": [
  {
   "cell_type": "code",
   "execution_count": 1,
   "metadata": {
    "colab": {},
    "colab_type": "code",
    "id": "QjQt-ARYRo-7"
   },
   "outputs": [],
   "source": [
    "from keras.layers import Input, Dense, Conv2D, MaxPooling2D, UpSampling2D\n",
    "from keras.models import Model\n",
    "from keras import backend as K\n",
    "from keras.datasets import cifar10\n",
    "\n",
    "import tensorflow as tf\n",
    "import numpy as np"
   ]
  },
  {
   "cell_type": "code",
   "execution_count": 2,
   "metadata": {},
   "outputs": [],
   "source": [
    "config = tf.compat.v1.ConfigProto()\n",
    "config.gpu_options.allow_growth = True\n",
    "session = tf.compat.v1.Session(config=config)"
   ]
  },
  {
   "cell_type": "code",
   "execution_count": 3,
   "metadata": {
    "colab": {
     "base_uri": "https://localhost:8080/",
     "height": 52
    },
    "colab_type": "code",
    "id": "-BeH8iMcRo_F",
    "outputId": "20645a70-0b39-4b0c-9526-52dbea3b32f1"
   },
   "outputs": [],
   "source": [
    "(x_train, y_train), (x_test, y_test) = cifar10.load_data()"
   ]
  },
  {
   "cell_type": "code",
   "execution_count": 4,
   "metadata": {
    "colab": {
     "base_uri": "https://localhost:8080/",
     "height": 52
    },
    "colab_type": "code",
    "id": "mqkalvPsRo_O",
    "outputId": "321c9d70-8e3d-4689-8c70-114dba80b25b"
   },
   "outputs": [
    {
     "name": "stdout",
     "output_type": "stream",
     "text": [
      "(50000, 32, 32, 3)\n",
      "(10000, 32, 32, 3)\n"
     ]
    }
   ],
   "source": [
    "x_train = x_train.astype('float32') / 255.\n",
    "x_test = x_test.astype('float32') / 255.\n",
    "x_train = np.reshape(x_train, (len(x_train), 32, 32, 3))\n",
    "x_test = np.reshape(x_test, (len(x_test), 32, 32, 3))\n",
    "\n",
    "print(x_train.shape)\n",
    "print(x_test.shape)"
   ]
  },
  {
   "cell_type": "code",
   "execution_count": 5,
   "metadata": {
    "colab": {},
    "colab_type": "code",
    "id": "q-iMwsRwwQ_r"
   },
   "outputs": [],
   "source": [
    "noise_factor = 0.5\n",
    "x_train_noisy = x_train + noise_factor * np.random.normal(loc=0.0, scale=1.0, size=x_train.shape)\n",
    "x_test_noisy = x_test + noise_factor * np.random.normal(loc=0.0, scale=1.0, size=x_test.shape)"
   ]
  },
  {
   "cell_type": "code",
   "execution_count": 6,
   "metadata": {
    "colab": {},
    "colab_type": "code",
    "id": "A52SG0-0wTsB"
   },
   "outputs": [],
   "source": [
    "x_train_noisy = np.clip(x_train_noisy, 0., 1.)\n",
    "x_test_noisy = np.clip(x_test_noisy, 0., 1.)"
   ]
  },
  {
   "cell_type": "code",
   "execution_count": 7,
   "metadata": {
    "colab": {},
    "colab_type": "code",
    "id": "asBR-LtfRo_g"
   },
   "outputs": [],
   "source": [
    "input_img = Input(shape = (32, 32, 3))"
   ]
  },
  {
   "cell_type": "code",
   "execution_count": 8,
   "metadata": {
    "colab": {},
    "colab_type": "code",
    "id": "LEfIppflRo_k"
   },
   "outputs": [],
   "source": [
    "x = Conv2D(32, (3, 3), activation='relu', padding='same')(input_img)\n",
    "x = MaxPooling2D((2,2), padding='same')(x)\n",
    "x = Conv2D(32, (3,3), activation='relu', padding='same')(x)\n",
    "x = MaxPooling2D((2,2), padding='same')(x)\n",
    "x = Conv2D(32, (3,3), activation='relu', padding='same')(x)\n",
    "encoded = MaxPooling2D((2,2), padding='same')(x)"
   ]
  },
  {
   "cell_type": "code",
   "execution_count": 9,
   "metadata": {
    "colab": {},
    "colab_type": "code",
    "id": "mloGFC9JRo_p"
   },
   "outputs": [],
   "source": [
    "x = Conv2D(32, (3, 3), activation='relu', padding='same')(encoded)\n",
    "x = UpSampling2D((2,2))(x)\n",
    "x = Conv2D(32, (3,3), activation='relu', padding='same')(x)\n",
    "x = UpSampling2D((2,2))(x)\n",
    "x = Conv2D(32, (3,3), activation='relu', padding='same')(x)\n",
    "x = UpSampling2D((2,2))(x)\n",
    "decoded = Conv2D(3,(3,3), activation='sigmoid', padding='same')(x)"
   ]
  },
  {
   "cell_type": "code",
   "execution_count": 10,
   "metadata": {
    "colab": {},
    "colab_type": "code",
    "id": "m83tFOrIRo_s"
   },
   "outputs": [],
   "source": [
    "autoencoder = Model(input_img, decoded)\n",
    "autoencoder.compile(optimizer='adam', loss='mae')"
   ]
  },
  {
   "cell_type": "code",
   "execution_count": null,
   "metadata": {
    "colab": {
     "base_uri": "https://localhost:8080/",
     "height": 1000
    },
    "colab_type": "code",
    "id": "i2f7C5GaRo_6",
    "outputId": "10ec9b5f-4602-42d0-bf1a-dafd9c7feb92"
   },
   "outputs": [
    {
     "name": "stdout",
     "output_type": "stream",
     "text": [
      "Epoch 1/100\n",
      "391/391 [==============================] - 6s 16ms/step - loss: 0.1180 - val_loss: 0.0998\n",
      "Epoch 2/100\n",
      "391/391 [==============================] - 6s 15ms/step - loss: 0.0966 - val_loss: 0.0944\n",
      "Epoch 3/100\n",
      "391/391 [==============================] - 6s 16ms/step - loss: 0.0929 - val_loss: 0.0914\n",
      "Epoch 4/100\n",
      "391/391 [==============================] - 6s 15ms/step - loss: 0.0909 - val_loss: 0.0900\n",
      "Epoch 5/100\n",
      "391/391 [==============================] - 6s 14ms/step - loss: 0.0891 - val_loss: 0.0893\n",
      "Epoch 6/100\n",
      "391/391 [==============================] - 6s 14ms/step - loss: 0.0880 - val_loss: 0.0872\n",
      "Epoch 7/100\n",
      "391/391 [==============================] - 6s 14ms/step - loss: 0.0870 - val_loss: 0.0864\n",
      "Epoch 8/100\n",
      "391/391 [==============================] - 9s 24ms/step - loss: 0.0863 - val_loss: 0.0859\n",
      "Epoch 9/100\n",
      "391/391 [==============================] - 6s 15ms/step - loss: 0.0857 - val_loss: 0.0850\n",
      "Epoch 10/100\n",
      "391/391 [==============================] - 6s 14ms/step - loss: 0.0851 - val_loss: 0.0866\n",
      "Epoch 11/100\n",
      "391/391 [==============================] - 6s 14ms/step - loss: 0.0846 - val_loss: 0.0842\n",
      "Epoch 12/100\n",
      "391/391 [==============================] - 6s 14ms/step - loss: 0.0842 - val_loss: 0.0840\n",
      "Epoch 13/100\n",
      "391/391 [==============================] - 6s 15ms/step - loss: 0.0838 - val_loss: 0.0842\n",
      "Epoch 14/100\n",
      "391/391 [==============================] - 6s 14ms/step - loss: 0.0834 - val_loss: 0.0833\n",
      "Epoch 15/100\n",
      "391/391 [==============================] - 6s 14ms/step - loss: 0.0832 - val_loss: 0.0831\n",
      "Epoch 16/100\n",
      "391/391 [==============================] - 6s 14ms/step - loss: 0.0829 - val_loss: 0.0826\n",
      "Epoch 17/100\n",
      "391/391 [==============================] - 6s 14ms/step - loss: 0.0826 - val_loss: 0.0830\n",
      "Epoch 18/100\n",
      "391/391 [==============================] - 6s 14ms/step - loss: 0.0823 - val_loss: 0.0820\n",
      "Epoch 19/100\n",
      "391/391 [==============================] - 6s 15ms/step - loss: 0.0821 - val_loss: 0.0818\n",
      "Epoch 20/100\n",
      "391/391 [==============================] - 6s 14ms/step - loss: 0.0819 - val_loss: 0.0816\n",
      "Epoch 21/100\n",
      "391/391 [==============================] - 9s 24ms/step - loss: 0.0816 - val_loss: 0.0816\n",
      "Epoch 22/100\n",
      "391/391 [==============================] - 6s 15ms/step - loss: 0.0815 - val_loss: 0.0815\n",
      "Epoch 23/100\n",
      "391/391 [==============================] - 6s 14ms/step - loss: 0.0814 - val_loss: 0.0816\n",
      "Epoch 24/100\n",
      "391/391 [==============================] - 6s 14ms/step - loss: 0.0812 - val_loss: 0.0811\n",
      "Epoch 25/100\n",
      "391/391 [==============================] - 6s 14ms/step - loss: 0.0810 - val_loss: 0.0815\n",
      "Epoch 26/100\n",
      "391/391 [==============================] - 6s 15ms/step - loss: 0.0809 - val_loss: 0.0821\n",
      "Epoch 27/100\n",
      "391/391 [==============================] - 6s 14ms/step - loss: 0.0808 - val_loss: 0.0811\n",
      "Epoch 28/100\n",
      "391/391 [==============================] - 6s 15ms/step - loss: 0.0806 - val_loss: 0.0823\n",
      "Epoch 29/100\n",
      "391/391 [==============================] - 6s 15ms/step - loss: 0.0805 - val_loss: 0.0804\n",
      "Epoch 30/100\n",
      "391/391 [==============================] - 6s 15ms/step - loss: 0.0804 - val_loss: 0.0805\n",
      "Epoch 31/100\n",
      "391/391 [==============================] - 6s 15ms/step - loss: 0.0803 - val_loss: 0.0807\n",
      "Epoch 32/100\n",
      "391/391 [==============================] - 6s 15ms/step - loss: 0.0801 - val_loss: 0.0798\n",
      "Epoch 33/100\n",
      "391/391 [==============================] - 6s 15ms/step - loss: 0.0801 - val_loss: 0.0803\n",
      "Epoch 34/100\n",
      "391/391 [==============================] - 6s 15ms/step - loss: 0.0800 - val_loss: 0.0816\n",
      "Epoch 35/100\n",
      "391/391 [==============================] - 6s 15ms/step - loss: 0.0799 - val_loss: 0.0800\n",
      "Epoch 36/100\n",
      "391/391 [==============================] - 6s 15ms/step - loss: 0.0798 - val_loss: 0.0797\n",
      "Epoch 37/100\n",
      "391/391 [==============================] - 6s 15ms/step - loss: 0.0798 - val_loss: 0.0808\n",
      "Epoch 38/100\n",
      "391/391 [==============================] - 6s 15ms/step - loss: 0.0797 - val_loss: 0.0804\n",
      "Epoch 39/100\n",
      "391/391 [==============================] - 6s 15ms/step - loss: 0.0796 - val_loss: 0.0798\n",
      "Epoch 40/100\n",
      "391/391 [==============================] - 6s 15ms/step - loss: 0.0794 - val_loss: 0.0802\n",
      "Epoch 41/100\n",
      "391/391 [==============================] - 6s 15ms/step - loss: 0.0794 - val_loss: 0.0804\n",
      "Epoch 42/100\n",
      "391/391 [==============================] - 6s 15ms/step - loss: 0.0794 - val_loss: 0.0802\n",
      "Epoch 43/100\n",
      "391/391 [==============================] - 6s 15ms/step - loss: 0.0793 - val_loss: 0.0798\n",
      "Epoch 44/100\n",
      "391/391 [==============================] - 6s 15ms/step - loss: 0.0794 - val_loss: 0.0805\n",
      "Epoch 45/100\n",
      "391/391 [==============================] - 6s 15ms/step - loss: 0.0791 - val_loss: 0.0802\n",
      "Epoch 46/100\n",
      "391/391 [==============================] - 6s 15ms/step - loss: 0.0791 - val_loss: 0.0803\n",
      "Epoch 47/100\n",
      "391/391 [==============================] - 6s 15ms/step - loss: 0.0790 - val_loss: 0.0795\n",
      "Epoch 48/100\n",
      "391/391 [==============================] - 6s 15ms/step - loss: 0.0791 - val_loss: 0.0793\n",
      "Epoch 49/100\n",
      "391/391 [==============================] - 6s 16ms/step - loss: 0.0790 - val_loss: 0.0790\n",
      "Epoch 50/100\n",
      "391/391 [==============================] - 6s 15ms/step - loss: 0.0789 - val_loss: 0.0788\n",
      "Epoch 51/100\n",
      "391/391 [==============================] - 6s 15ms/step - loss: 0.0789 - val_loss: 0.0806\n",
      "Epoch 52/100\n",
      "391/391 [==============================] - 6s 15ms/step - loss: 0.0789 - val_loss: 0.0789\n",
      "Epoch 53/100\n",
      "391/391 [==============================] - 6s 15ms/step - loss: 0.0787 - val_loss: 0.0791\n",
      "Epoch 54/100\n",
      "391/391 [==============================] - 6s 15ms/step - loss: 0.0786 - val_loss: 0.0789\n",
      "Epoch 55/100\n",
      "391/391 [==============================] - 6s 14ms/step - loss: 0.0787 - val_loss: 0.0793\n",
      "Epoch 56/100\n",
      "391/391 [==============================] - 6s 14ms/step - loss: 0.0786 - val_loss: 0.0793\n",
      "Epoch 57/100\n",
      "391/391 [==============================] - 6s 15ms/step - loss: 0.0785 - val_loss: 0.0808\n",
      "Epoch 58/100\n",
      "391/391 [==============================] - 6s 14ms/step - loss: 0.0785 - val_loss: 0.0786\n",
      "Epoch 59/100\n",
      "391/391 [==============================] - 6s 15ms/step - loss: 0.0784 - val_loss: 0.0790\n",
      "Epoch 60/100\n",
      "391/391 [==============================] - 6s 14ms/step - loss: 0.0784 - val_loss: 0.0787\n",
      "Epoch 61/100\n",
      "391/391 [==============================] - 6s 15ms/step - loss: 0.0784 - val_loss: 0.0784\n",
      "Epoch 62/100\n",
      "391/391 [==============================] - 6s 15ms/step - loss: 0.0784 - val_loss: 0.0791\n",
      "Epoch 63/100\n",
      "391/391 [==============================] - 6s 15ms/step - loss: 0.0783 - val_loss: 0.0783\n",
      "Epoch 64/100\n",
      "391/391 [==============================] - 6s 15ms/step - loss: 0.0783 - val_loss: 0.0797\n",
      "Epoch 65/100\n",
      "391/391 [==============================] - 6s 15ms/step - loss: 0.0783 - val_loss: 0.0783\n",
      "Epoch 66/100\n",
      "391/391 [==============================] - 6s 15ms/step - loss: 0.0783 - val_loss: 0.0784\n",
      "Epoch 67/100\n",
      "391/391 [==============================] - 6s 14ms/step - loss: 0.0782 - val_loss: 0.0783\n",
      "Epoch 68/100\n",
      "391/391 [==============================] - 11s 29ms/step - loss: 0.0782 - val_loss: 0.0787\n",
      "Epoch 69/100\n",
      "391/391 [==============================] - 6s 15ms/step - loss: 0.0782 - val_loss: 0.0790\n",
      "Epoch 70/100\n",
      "391/391 [==============================] - 6s 14ms/step - loss: 0.0781 - val_loss: 0.0781\n",
      "Epoch 71/100\n",
      "391/391 [==============================] - 6s 15ms/step - loss: 0.0781 - val_loss: 0.0790\n",
      "Epoch 72/100\n",
      "391/391 [==============================] - 6s 15ms/step - loss: 0.0781 - val_loss: 0.0789\n",
      "Epoch 73/100\n",
      "391/391 [==============================] - 6s 15ms/step - loss: 0.0780 - val_loss: 0.0785\n",
      "Epoch 74/100\n",
      "391/391 [==============================] - 6s 15ms/step - loss: 0.0780 - val_loss: 0.0781\n",
      "Epoch 75/100\n",
      "391/391 [==============================] - 6s 14ms/step - loss: 0.0780 - val_loss: 0.0791\n",
      "Epoch 76/100\n",
      "391/391 [==============================] - 6s 15ms/step - loss: 0.0780 - val_loss: 0.0783\n",
      "Epoch 77/100\n",
      "391/391 [==============================] - 6s 15ms/step - loss: 0.0778 - val_loss: 0.0785\n",
      "Epoch 78/100\n",
      "391/391 [==============================] - 6s 15ms/step - loss: 0.0780 - val_loss: 0.0781\n",
      "Epoch 79/100\n",
      "391/391 [==============================] - 6s 15ms/step - loss: 0.0778 - val_loss: 0.0783\n",
      "Epoch 80/100\n"
     ]
    },
    {
     "name": "stdout",
     "output_type": "stream",
     "text": [
      "391/391 [==============================] - 6s 14ms/step - loss: 0.0778 - val_loss: 0.0786\n",
      "Epoch 81/100\n",
      "391/391 [==============================] - 6s 14ms/step - loss: 0.0778 - val_loss: 0.0783\n",
      "Epoch 82/100\n",
      "391/391 [==============================] - 6s 14ms/step - loss: 0.0777 - val_loss: 0.0780\n",
      "Epoch 83/100\n",
      "391/391 [==============================] - 6s 14ms/step - loss: 0.0778 - val_loss: 0.0781\n",
      "Epoch 84/100\n",
      "391/391 [==============================] - 6s 15ms/step - loss: 0.0778 - val_loss: 0.0780\n",
      "Epoch 85/100\n",
      "391/391 [==============================] - 6s 14ms/step - loss: 0.0776 - val_loss: 0.0780\n",
      "Epoch 86/100\n",
      "391/391 [==============================] - 6s 14ms/step - loss: 0.0777 - val_loss: 0.0779\n",
      "Epoch 87/100\n",
      "391/391 [==============================] - 6s 16ms/step - loss: 0.0776 - val_loss: 0.0779\n",
      "Epoch 88/100\n",
      "391/391 [==============================] - 6s 14ms/step - loss: 0.0776 - val_loss: 0.0783\n",
      "Epoch 89/100\n",
      "391/391 [==============================] - 6s 14ms/step - loss: 0.0776 - val_loss: 0.0780\n",
      "Epoch 90/100\n",
      "391/391 [==============================] - 6s 15ms/step - loss: 0.0776 - val_loss: 0.0778\n",
      "Epoch 91/100\n",
      "391/391 [==============================] - 6s 14ms/step - loss: 0.0775 - val_loss: 0.0781\n",
      "Epoch 92/100\n",
      "391/391 [==============================] - 6s 15ms/step - loss: 0.0775 - val_loss: 0.0776\n",
      "Epoch 93/100\n",
      "391/391 [==============================] - 6s 15ms/step - loss: 0.0776 - val_loss: 0.0777\n",
      "Epoch 94/100\n",
      "391/391 [==============================] - 6s 15ms/step - loss: 0.0775 - val_loss: 0.0786\n",
      "Epoch 95/100\n",
      "391/391 [==============================] - 6s 15ms/step - loss: 0.0775 - val_loss: 0.0783\n",
      "Epoch 96/100\n",
      "389/391 [============================>.] - ETA: 0s - loss: 0.0775"
     ]
    }
   ],
   "source": [
    "autoencoder.fit(x_train_noisy, x_train, \n",
    "                epochs=100, \n",
    "                batch_size=128, \n",
    "                shuffle=True, \n",
    "                validation_data=(x_test_noisy,x_test))"
   ]
  },
  {
   "cell_type": "code",
   "execution_count": null,
   "metadata": {
    "colab": {
     "base_uri": "https://localhost:8080/",
     "height": 34
    },
    "colab_type": "code",
    "id": "ssPDHNbwRo_-",
    "outputId": "7a8d8974-9cab-4668-c34b-7c9bd84277d2"
   },
   "outputs": [],
   "source": [
    "decoded_imgs = autoencoder.predict(x_test_noisy)\n",
    "print(decoded_imgs.shape)"
   ]
  },
  {
   "cell_type": "code",
   "execution_count": null,
   "metadata": {
    "colab": {
     "base_uri": "https://localhost:8080/",
     "height": 344
    },
    "colab_type": "code",
    "id": "pje75htYRpAB",
    "outputId": "79bad17c-de7d-4e34-f647-87cc26bf91bc"
   },
   "outputs": [],
   "source": [
    "import matplotlib.pyplot as plt\n",
    "\n",
    "n = 5\n",
    "plt.figure(figsize=(40, 16))\n",
    "for i in range(n):\n",
    "  #display original\n",
    "  ax = plt.subplot(2, n, i + 1)\n",
    "  plt.imshow(x_test_noisy[i].reshape(32, 32, 3))\n",
    "  #plt.gray()\n",
    "  ax.get_xaxis().set_visible(False)\n",
    "  ax.get_yaxis().set_visible(False)\n",
    "\n",
    "  #display reconstruction\n",
    "  ax = plt.subplot(2, n, i + 1 + n)\n",
    "  plt.imshow(decoded_imgs[i].reshape(32,32, 3))\n",
    "  #plt.gray()\n",
    "  ax.get_xaxis().set_visible(False)\n",
    "  ax.get_yaxis().set_visible(False)"
   ]
  },
  {
   "cell_type": "code",
   "execution_count": null,
   "metadata": {
    "colab": {},
    "colab_type": "code",
    "id": "RsXJL5VlRpAF"
   },
   "outputs": [],
   "source": []
  },
  {
   "cell_type": "code",
   "execution_count": null,
   "metadata": {},
   "outputs": [],
   "source": []
  }
 ],
 "metadata": {
  "accelerator": "GPU",
  "colab": {
   "collapsed_sections": [],
   "name": "CIFAR_Autoencoder.ipynb",
   "provenance": []
  },
  "kernelspec": {
   "display_name": "Python 3",
   "language": "python",
   "name": "python3"
  },
  "language_info": {
   "codemirror_mode": {
    "name": "ipython",
    "version": 3
   },
   "file_extension": ".py",
   "mimetype": "text/x-python",
   "name": "python",
   "nbconvert_exporter": "python",
   "pygments_lexer": "ipython3",
   "version": "3.8.3"
  }
 },
 "nbformat": 4,
 "nbformat_minor": 1
}
